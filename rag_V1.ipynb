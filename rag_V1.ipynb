{
  "nbformat": 4,
  "nbformat_minor": 0,
  "metadata": {
    "colab": {
      "provenance": []
    },
    "kernelspec": {
      "name": "python3",
      "display_name": "Python 3"
    },
    "language_info": {
      "name": "python"
    }
  },
  "cells": [
    {
      "cell_type": "markdown",
      "source": [
        "# RAG Tutorial with Groclake\n",
        "Description:\n",
        "This complete, end-to-end tutorial demonstrates how to create an Agentic Retrieval-Augmented Generation (RAG) system using Groclake. The process involves managing documents in DataLake, generating vectors for documents, performing vector searches, enriching search results, and utilizing ModelLake to provide contextual, AI-assisted responses. Each step is designed to showcase the capabilities of Groclake in creating a fully functional Agentic RAG system.\n",
        "\n",
        "Groclake Documentation: https://plotch-ai.gitbook.io/groclake-by-plotch.ai\n",
        "\n",
        "Vectorcake is a vector centric infrastructure allowing developers to create embedding vectors quickly, store vectors and build useful RAG applications.\n",
        "\n",
        "Datalake is a data warehouse for storing various types structured and unstructured documents and records. Using Datalake, developers can store pdfs, word documents, excel sheets, google sheets, texts etc for RAG based applications.\n",
        "\n",
        "Modelake is an infrastructure pipe for LLM based operations like chat completions, language translations, automatic speech recognition, text to speech, speech to text and speech to speech operations"
      ],
      "metadata": {
        "id": "3i3YyNwXTKvn"
      }
    },
    {
      "cell_type": "markdown",
      "source": [
        "# Step 1: Install the Required Library\n",
        "First, install the groclake library, which will be used for managing data, vectors, and models"
      ],
      "metadata": {
        "id": "t5QydZxVSEp1"
      }
    },
    {
      "cell_type": "code",
      "execution_count": null,
      "metadata": {
        "id": "uhIfcr6k-vnS",
        "colab": {
          "base_uri": "https://localhost:8080/"
        },
        "outputId": "95f57b51-80c9-4ec6-e71b-f35a06504de3"
      },
      "outputs": [
        {
          "output_type": "stream",
          "name": "stdout",
          "text": [
            "Collecting groclake\n",
            "  Downloading groclake-0.1.14-py3-none-any.whl.metadata (83 bytes)\n",
            "Requirement already satisfied: requests in /usr/local/lib/python3.10/dist-packages (from groclake) (2.32.3)\n",
            "Requirement already satisfied: charset-normalizer<4,>=2 in /usr/local/lib/python3.10/dist-packages (from requests->groclake) (3.4.1)\n",
            "Requirement already satisfied: idna<4,>=2.5 in /usr/local/lib/python3.10/dist-packages (from requests->groclake) (3.10)\n",
            "Requirement already satisfied: urllib3<3,>=1.21.1 in /usr/local/lib/python3.10/dist-packages (from requests->groclake) (2.3.0)\n",
            "Requirement already satisfied: certifi>=2017.4.17 in /usr/local/lib/python3.10/dist-packages (from requests->groclake) (2024.12.14)\n",
            "Downloading groclake-0.1.14-py3-none-any.whl (10.0 kB)\n",
            "Installing collected packages: groclake\n",
            "Successfully installed groclake-0.1.14\n"
          ]
        }
      ],
      "source": [
        "!pip install groclake"
      ]
    },
    {
      "cell_type": "markdown",
      "source": [
        "#Step 2: Set Environment Variables\n",
        "Set up the API key and account ID for authenticating with the Groclake service. These are stored as environment variables to simplify access throughout the script."
      ],
      "metadata": {
        "id": "BJeU1xg4SOPF"
      }
    },
    {
      "cell_type": "code",
      "source": [
        "import os\n",
        "\n",
        "# Set API key and account ID\n",
        "GROCLAKE_API_KEY = 'fe9fc289c3ff0af142b6d3bead98a923'\n",
        "GROCLAKE_ACCOUNT_ID = '31df8ac36812112e6bc5ff0ad0daf847'\n",
        "\n",
        "# Set them as environment variables\n",
        "os.environ['GROCLAKE_API_KEY'] = GROCLAKE_API_KEY\n",
        "os.environ['GROCLAKE_ACCOUNT_ID'] = GROCLAKE_ACCOUNT_ID\n",
        "\n",
        "print(\"Environment variables set successfully.\")\n"
      ],
      "metadata": {
        "id": "YBQDSTld-xeY",
        "colab": {
          "base_uri": "https://localhost:8080/"
        },
        "outputId": "2bc58c15-f55e-4064-e2d2-1615304d316b"
      },
      "execution_count": null,
      "outputs": [
        {
          "output_type": "stream",
          "name": "stdout",
          "text": [
            "Environment variables set successfully.\n"
          ]
        }
      ]
    },
    {
      "cell_type": "code",
      "source": [],
      "metadata": {
        "id": "v3rHkm5hqFuG"
      },
      "execution_count": null,
      "outputs": []
    },
    {
      "cell_type": "code",
      "source": [
        "import os\n",
        "from groclake.vectorlake import VectorLake\n",
        "from groclake.datalake import DataLake\n",
        "from groclake.modellake import ModelLake\n",
        "import random\n",
        "\n",
        "class SarcasticQuizBot:\n",
        "    def __init__(self):\n",
        "        # Initialize API credentials\n",
        "        self.GROCLAKE_API_KEY = '93db85ed909c13838ff95ccfa94cebd9'\n",
        "        self.GROCLAKE_ACCOUNT_ID = '89ff7fa5adc705887aa8186792153342'\n",
        "        self.setup_environment()\n",
        "        self.initialize_lakes()\n",
        "\n",
        "        # Sarcastic responses for wrong answers\n",
        "        self.roasts = [\n",
        "            \"Wow, that's impressively wrong! Did you even read the question?\",\n",
        "            \"Oh honey... Maybe try reading a book sometime?\",\n",
        "            \"That's about as correct as a chocolate teapot is useful.\",\n",
        "            \"Amazing! Every word in that answer was wrong.\",\n",
        "            \"Did you pick that answer with your eyes closed?\",\n",
        "            \"I'm not saying you're wrong, but... actually, yes, I am saying that.\",\n",
        "            \"Congratulations! That's the wrongest answer I've seen all day!\",\n",
        "            \"Even a random guess would have been better. Impressive!\"\n",
        "        ]\n",
        "\n",
        "        # Add some sarcastic score comments\n",
        "        self.score_comments = {\n",
        "            0: \"Wow, a perfect zero! That's actually harder than getting them all right!\",\n",
        "            1: \"One right answer... did you get lucky or was that your one brain cell working overtime?\",\n",
        "            2: \"Two correct! Your knowledge is as shallow as a puddle in the desert.\",\n",
        "            3: \"Three right! You're climbing up from 'totally clueless' to just 'mostly clueless'.\",\n",
        "            4: \"Four correct. Are you even trying, or is this your natural talent?\",\n",
        "            5: \"Half right! Perfectly balanced between knowledge and ignorance.\",\n",
        "            6: \"Six correct! Starting to show signs of intelligence... barely.\",\n",
        "            7: \"Seven! Not bad... for a beginner who studied in their sleep.\",\n",
        "            8: \"Eight right! Almost impressive, if I had lower standards.\",\n",
        "            9: \"Nine correct! So close to perfection, yet so far.\",\n",
        "            10: \"Perfect score! Who helped you? I refuse to believe you did this alone.\"\n",
        "        }\n",
        "\n",
        "    def setup_environment(self):\n",
        "        os.environ['GROCLAKE_API_KEY'] = self.GROCLAKE_API_KEY\n",
        "        os.environ['GROCLAKE_ACCOUNT_ID'] = self.GROCLAKE_ACCOUNT_ID\n",
        "\n",
        "    def initialize_lakes(self):\n",
        "        try:\n",
        "            self.vectorlake = VectorLake()\n",
        "            vector_create = self.vectorlake.create()\n",
        "            self.vectorlake_id = vector_create[\"vectorlake_id\"]\n",
        "\n",
        "            self.datalake = DataLake()\n",
        "            datalake_create = self.datalake.create()\n",
        "            self.datalake_id = datalake_create[\"datalake_id\"]\n",
        "\n",
        "            print(\"Lakes initialized successfully!\")\n",
        "        except Exception as e:\n",
        "            print(f\"Failed to initialize lakes: {str(e)}\")\n",
        "            raise\n",
        "\n",
        "    def push_document(self, document_url):\n",
        "        try:\n",
        "            payload_push = {\n",
        "                \"datalake_id\": self.datalake_id,\n",
        "                \"document_type\": \"url\",\n",
        "                \"document_data\": document_url\n",
        "            }\n",
        "            data_push = self.datalake.push(payload_push)\n",
        "            return data_push[\"document_id\"]\n",
        "        except Exception as e:\n",
        "            print(f\"Error pushing document: {str(e)}\")\n",
        "            raise\n",
        "\n",
        "    def generate_question(self, topic, question_number):\n",
        "        try:\n",
        "            # Modified prompt to emphasize the need for exactly 4 options\n",
        "            prompt = (\n",
        "                f\"Generate a challenging multiple choice question #{question_number} about {topic}. \"\n",
        "                \"The question MUST have EXACTLY 4 options labeled A, B, C, and D. \"\n",
        "                \"Make sure it's different from previous questions.\\n\\n\"\n",
        "                \"Format your response exactly like this:\\n\"\n",
        "                \"Question: [Your question here]\\n\"\n",
        "                \"A) [First option]\\n\"\n",
        "                \"B) [Second option]\\n\"\n",
        "                \"C) [Third option]\\n\"\n",
        "                \"D) [Fourth option]\\n\"\n",
        "                \"Correct: [A, B, C, or D]\"\n",
        "            )\n",
        "\n",
        "            payload = {\n",
        "                \"messages\": [\n",
        "                    {\n",
        "                        \"role\": \"system\",\n",
        "                        \"content\": \"You are a quiz bot that generates multiple-choice questions. \"\n",
        "                                 \"Always provide exactly 4 options (A, B, C, D) for each question.\"\n",
        "                    },\n",
        "                    {\"role\": \"user\", \"content\": prompt}\n",
        "                ],\n",
        "                \"token_size\": 7000\n",
        "            }\n",
        "\n",
        "            response = ModelLake().chat_complete(payload)\n",
        "            question_data = self._parse_question(response[\"answer\"])\n",
        "\n",
        "            # Validate the parsed question has exactly 4 options\n",
        "            if len(question_data[\"options\"]) != 4:\n",
        "                # If we don't get 4 options, generate default ones\n",
        "                question_data[\"options\"] = [\n",
        "                    f\"A) Option 1 for {topic}\",\n",
        "                    f\"B) Option 2 for {topic}\",\n",
        "                    f\"C) Option 3 for {topic}\",\n",
        "                    f\"D) Option 4 for {topic}\"\n",
        "                ]\n",
        "                question_data[\"correct_answer\"] = \"A\"\n",
        "\n",
        "            return question_data\n",
        "\n",
        "        except Exception as e:\n",
        "            print(f\"Error generating question: {str(e)}\")\n",
        "            raise\n",
        "\n",
        "    def _parse_question(self, response):\n",
        "        # Split the response into lines and remove empty lines\n",
        "        lines = [line.strip() for line in response.split(\"\\n\") if line.strip()]\n",
        "\n",
        "        # Extract question (handling both with and without \"Question:\" prefix)\n",
        "        question = lines[0]\n",
        "        if question.startswith(\"Question:\"):\n",
        "            question = question[9:].strip()\n",
        "\n",
        "        # Extract options ensuring we get exactly 4\n",
        "        options = []\n",
        "        for line in lines[1:5]:  # Look at next 4 lines after question\n",
        "            if line.startswith((\"A)\", \"B)\", \"C)\", \"D)\")):\n",
        "                options.append(line)\n",
        "\n",
        "        # Extract correct answer\n",
        "        correct_answer = None\n",
        "        for line in lines:\n",
        "            if line.startswith(\"Correct:\"):\n",
        "                correct_answer = line.split(\":\")[1].strip()\n",
        "                break\n",
        "\n",
        "        # Validate correct answer is one of A, B, C, or D\n",
        "        if correct_answer not in [\"A\", \"B\", \"C\", \"D\"]:\n",
        "            correct_answer = \"A\"  # Default to A if invalid\n",
        "\n",
        "        return {\n",
        "            \"question\": question,\n",
        "            \"options\": options,\n",
        "            \"correct_answer\": correct_answer\n",
        "        }\n",
        "\n",
        "    def run_quiz(self, topic, num_questions=10):\n",
        "        print(f\"\\nAlright, prepare to be humiliated in {num_questions} questions about {topic}!\")\n",
        "        print(\"=\" * 50)\n",
        "\n",
        "        correct_answers = 0\n",
        "\n",
        "        for i in range(num_questions):\n",
        "            print(f\"\\nQuestion {i+1} of {num_questions}\")\n",
        "            print(\"-\" * 30)\n",
        "\n",
        "            question_data = self.generate_question(topic, i+1)\n",
        "            print(question_data[\"question\"])\n",
        "            for option in question_data[\"options\"]:\n",
        "                print(option)\n",
        "\n",
        "            while True:\n",
        "                answer = input(\"\\nYour answer (A/B/C/D): \").upper()\n",
        "                if answer in ['A', 'B', 'C', 'D']:\n",
        "                    break\n",
        "                print(\"Really? It's not that complicated. Just pick A, B, C, or D!\")\n",
        "\n",
        "            if answer == question_data[\"correct_answer\"]:\n",
        "                print(\"\\nCorrect! Who would've thought you had it in you!\")\n",
        "                correct_answers += 1\n",
        "            else:\n",
        "                roast = random.choice(self.roasts)\n",
        "                print(f\"\\n{roast}\")\n",
        "                print(f\"The correct answer was {question_data['correct_answer']}.\")\n",
        "\n",
        "            print(f\"\\nCurrent score: {correct_answers}/{i+1}\")\n",
        "\n",
        "        # Final score and comment\n",
        "        final_score = correct_answers\n",
        "        print(\"\\n\" + \"=\" * 50)\n",
        "        print(f\"\\nFinal Score: {final_score}/{num_questions}\")\n",
        "        print(self.score_comments[final_score])\n",
        "\n",
        "        if final_score < 5:\n",
        "            print(\"Maybe try reading a book... or at least the back of a cereal box?\")\n",
        "        elif final_score < 8:\n",
        "            print(\"Not terrible, but not good either. Story of your life?\")\n",
        "        else:\n",
        "            print(\"I hate to admit it, but you might actually know something about this topic.\")\n",
        "\n",
        "def main():\n",
        "    quiz_bot = SarcasticQuizBot()\n",
        "\n",
        "    # Example usage\n",
        "    document_url = \"https://drive.google.com/uc?id=1PnGGUo9vpwyKpQe1lUW1N4An9l39xf9I\"\n",
        "    quiz_bot.push_document(document_url)\n",
        "\n",
        "    while True:\n",
        "        topic = input(\"\\nWhat topic would you like to be roasted about? (or 'quit' to exit): \")\n",
        "        if topic.lower() == 'quit':\n",
        "            break\n",
        "\n",
        "        # Run a 10-question quiz on the chosen topic\n",
        "        quiz_bot.run_quiz(topic)\n",
        "\n",
        "        play_again = input(\"\\nWant another round of humiliation? (yes/no): \").lower()\n",
        "        if play_again != 'yes':\n",
        "            print(\"\\nProbably for the best. Your ego couldn't take much more anyway.\")\n",
        "            break\n",
        "\n",
        "if __name__ == \"__main__\":\n",
        "    main()"
      ],
      "metadata": {
        "colab": {
          "base_uri": "https://localhost:8080/",
          "height": 564
        },
        "id": "VeW1z1VmovDi",
        "outputId": "ef4dd04b-ad24-4bf4-c4fb-55cfca7ac6a9"
      },
      "execution_count": null,
      "outputs": [
        {
          "output_type": "stream",
          "name": "stdout",
          "text": [
            "Lakes initialized successfully!\n",
            "\n",
            "What topic would you like to be roasted about? (or 'quit' to exit): kite\n",
            "\n",
            "Alright, prepare to be humiliated in 10 questions about kite!\n",
            "==================================================\n",
            "\n",
            "Question 1 of 10\n",
            "------------------------------\n",
            "In aerodynamics, what is the term used to describe the force that allows a kite to lift off and stay in the air?\n",
            "A) Gravity\n",
            "B) Friction\n",
            "C) Lift\n",
            "D) Thrust\n"
          ]
        },
        {
          "output_type": "error",
          "ename": "KeyboardInterrupt",
          "evalue": "Interrupted by user",
          "traceback": [
            "\u001b[0;31m---------------------------------------------------------------------------\u001b[0m",
            "\u001b[0;31mKeyboardInterrupt\u001b[0m                         Traceback (most recent call last)",
            "\u001b[0;32m<ipython-input-24-6375ab3f739e>\u001b[0m in \u001b[0;36m<cell line: 218>\u001b[0;34m()\u001b[0m\n\u001b[1;32m    217\u001b[0m \u001b[0;34m\u001b[0m\u001b[0m\n\u001b[1;32m    218\u001b[0m \u001b[0;32mif\u001b[0m \u001b[0m__name__\u001b[0m \u001b[0;34m==\u001b[0m \u001b[0;34m\"__main__\"\u001b[0m\u001b[0;34m:\u001b[0m\u001b[0;34m\u001b[0m\u001b[0;34m\u001b[0m\u001b[0m\n\u001b[0;32m--> 219\u001b[0;31m     \u001b[0mmain\u001b[0m\u001b[0;34m(\u001b[0m\u001b[0;34m)\u001b[0m\u001b[0;34m\u001b[0m\u001b[0;34m\u001b[0m\u001b[0m\n\u001b[0m",
            "\u001b[0;32m<ipython-input-24-6375ab3f739e>\u001b[0m in \u001b[0;36mmain\u001b[0;34m()\u001b[0m\n\u001b[1;32m    209\u001b[0m \u001b[0;34m\u001b[0m\u001b[0m\n\u001b[1;32m    210\u001b[0m         \u001b[0;31m# Run a 10-question quiz on the chosen topic\u001b[0m\u001b[0;34m\u001b[0m\u001b[0;34m\u001b[0m\u001b[0m\n\u001b[0;32m--> 211\u001b[0;31m         \u001b[0mquiz_bot\u001b[0m\u001b[0;34m.\u001b[0m\u001b[0mrun_quiz\u001b[0m\u001b[0;34m(\u001b[0m\u001b[0mtopic\u001b[0m\u001b[0;34m)\u001b[0m\u001b[0;34m\u001b[0m\u001b[0;34m\u001b[0m\u001b[0m\n\u001b[0m\u001b[1;32m    212\u001b[0m \u001b[0;34m\u001b[0m\u001b[0m\n\u001b[1;32m    213\u001b[0m         \u001b[0mplay_again\u001b[0m \u001b[0;34m=\u001b[0m \u001b[0minput\u001b[0m\u001b[0;34m(\u001b[0m\u001b[0;34m\"\\nWant another round of humiliation? (yes/no): \"\u001b[0m\u001b[0;34m)\u001b[0m\u001b[0;34m.\u001b[0m\u001b[0mlower\u001b[0m\u001b[0;34m(\u001b[0m\u001b[0;34m)\u001b[0m\u001b[0;34m\u001b[0m\u001b[0;34m\u001b[0m\u001b[0m\n",
            "\u001b[0;32m<ipython-input-24-6375ab3f739e>\u001b[0m in \u001b[0;36mrun_quiz\u001b[0;34m(self, topic, num_questions)\u001b[0m\n\u001b[1;32m    168\u001b[0m \u001b[0;34m\u001b[0m\u001b[0m\n\u001b[1;32m    169\u001b[0m             \u001b[0;32mwhile\u001b[0m \u001b[0;32mTrue\u001b[0m\u001b[0;34m:\u001b[0m\u001b[0;34m\u001b[0m\u001b[0;34m\u001b[0m\u001b[0m\n\u001b[0;32m--> 170\u001b[0;31m                 \u001b[0manswer\u001b[0m \u001b[0;34m=\u001b[0m \u001b[0minput\u001b[0m\u001b[0;34m(\u001b[0m\u001b[0;34m\"\\nYour answer (A/B/C/D): \"\u001b[0m\u001b[0;34m)\u001b[0m\u001b[0;34m.\u001b[0m\u001b[0mupper\u001b[0m\u001b[0;34m(\u001b[0m\u001b[0;34m)\u001b[0m\u001b[0;34m\u001b[0m\u001b[0;34m\u001b[0m\u001b[0m\n\u001b[0m\u001b[1;32m    171\u001b[0m                 \u001b[0;32mif\u001b[0m \u001b[0manswer\u001b[0m \u001b[0;32min\u001b[0m \u001b[0;34m[\u001b[0m\u001b[0;34m'A'\u001b[0m\u001b[0;34m,\u001b[0m \u001b[0;34m'B'\u001b[0m\u001b[0;34m,\u001b[0m \u001b[0;34m'C'\u001b[0m\u001b[0;34m,\u001b[0m \u001b[0;34m'D'\u001b[0m\u001b[0;34m]\u001b[0m\u001b[0;34m:\u001b[0m\u001b[0;34m\u001b[0m\u001b[0;34m\u001b[0m\u001b[0m\n\u001b[1;32m    172\u001b[0m                     \u001b[0;32mbreak\u001b[0m\u001b[0;34m\u001b[0m\u001b[0;34m\u001b[0m\u001b[0m\n",
            "\u001b[0;32m/usr/local/lib/python3.10/dist-packages/ipykernel/kernelbase.py\u001b[0m in \u001b[0;36mraw_input\u001b[0;34m(self, prompt)\u001b[0m\n\u001b[1;32m    849\u001b[0m                 \u001b[0;34m\"raw_input was called, but this frontend does not support input requests.\"\u001b[0m\u001b[0;34m\u001b[0m\u001b[0;34m\u001b[0m\u001b[0m\n\u001b[1;32m    850\u001b[0m             )\n\u001b[0;32m--> 851\u001b[0;31m         return self._input_request(str(prompt),\n\u001b[0m\u001b[1;32m    852\u001b[0m             \u001b[0mself\u001b[0m\u001b[0;34m.\u001b[0m\u001b[0m_parent_ident\u001b[0m\u001b[0;34m,\u001b[0m\u001b[0;34m\u001b[0m\u001b[0;34m\u001b[0m\u001b[0m\n\u001b[1;32m    853\u001b[0m             \u001b[0mself\u001b[0m\u001b[0;34m.\u001b[0m\u001b[0m_parent_header\u001b[0m\u001b[0;34m,\u001b[0m\u001b[0;34m\u001b[0m\u001b[0;34m\u001b[0m\u001b[0m\n",
            "\u001b[0;32m/usr/local/lib/python3.10/dist-packages/ipykernel/kernelbase.py\u001b[0m in \u001b[0;36m_input_request\u001b[0;34m(self, prompt, ident, parent, password)\u001b[0m\n\u001b[1;32m    893\u001b[0m             \u001b[0;32mexcept\u001b[0m \u001b[0mKeyboardInterrupt\u001b[0m\u001b[0;34m:\u001b[0m\u001b[0;34m\u001b[0m\u001b[0;34m\u001b[0m\u001b[0m\n\u001b[1;32m    894\u001b[0m                 \u001b[0;31m# re-raise KeyboardInterrupt, to truncate traceback\u001b[0m\u001b[0;34m\u001b[0m\u001b[0;34m\u001b[0m\u001b[0m\n\u001b[0;32m--> 895\u001b[0;31m                 \u001b[0;32mraise\u001b[0m \u001b[0mKeyboardInterrupt\u001b[0m\u001b[0;34m(\u001b[0m\u001b[0;34m\"Interrupted by user\"\u001b[0m\u001b[0;34m)\u001b[0m \u001b[0;32mfrom\u001b[0m \u001b[0;32mNone\u001b[0m\u001b[0;34m\u001b[0m\u001b[0;34m\u001b[0m\u001b[0m\n\u001b[0m\u001b[1;32m    896\u001b[0m             \u001b[0;32mexcept\u001b[0m \u001b[0mException\u001b[0m \u001b[0;32mas\u001b[0m \u001b[0me\u001b[0m\u001b[0;34m:\u001b[0m\u001b[0;34m\u001b[0m\u001b[0;34m\u001b[0m\u001b[0m\n\u001b[1;32m    897\u001b[0m                 \u001b[0mself\u001b[0m\u001b[0;34m.\u001b[0m\u001b[0mlog\u001b[0m\u001b[0;34m.\u001b[0m\u001b[0mwarning\u001b[0m\u001b[0;34m(\u001b[0m\u001b[0;34m\"Invalid Message:\"\u001b[0m\u001b[0;34m,\u001b[0m \u001b[0mexc_info\u001b[0m\u001b[0;34m=\u001b[0m\u001b[0;32mTrue\u001b[0m\u001b[0;34m)\u001b[0m\u001b[0;34m\u001b[0m\u001b[0;34m\u001b[0m\u001b[0m\n",
            "\u001b[0;31mKeyboardInterrupt\u001b[0m: Interrupted by user"
          ]
        }
      ]
    },
    {
      "cell_type": "markdown",
      "source": [
        "# Step 3: Initialize VectorLake and DataLake\n",
        "Create instances of VectorLake and DataLake. These are core components for managing vectors and data"
      ],
      "metadata": {
        "id": "VkK5IYEhSY8j"
      }
    }
  ]
}